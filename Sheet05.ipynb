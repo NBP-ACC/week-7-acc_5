{
 "cells": [
  {
   "cell_type": "markdown",
   "metadata": {},
   "source": [
    "Osnabrück University - A&C: Computational Cognition (Summer Term 2019)"
   ]
  },
  {
   "cell_type": "markdown",
   "metadata": {},
   "source": [
    "# Exercise Sheet 05: Eye tracking"
   ]
  },
  {
   "cell_type": "markdown",
   "metadata": {},
   "source": [
    "## Introduction\n",
    "\n",
    "This week's sheet should be solved and handed in at 14:00 at **Tuesday, May 28, 2019**. If you need help (and Google and other resources were not enough), feel free to contact your tutors. Please push your results to your Github group folder.\n",
    "\n",
    "For this exercise sheet you will have 2 weeks and the sheet is also worth of 30 points. In this exercise sheet you will start to work with eye tracking data. Note that the data we will use here are not raw gaze data and contain coordinates of fixation points.\n",
    "\n",
    "The dataset is distributed freely by a following study: [Wilming, N. Dryad](https://www.nature.com/articles/sdata2016126#data-citations). By clicking on the link in the section \"Data Citations\" you will get redirected to the page where you can download all the data openly distributed. Read below for description of each file.\n",
    "\n",
    "##### necessary\n",
    "*etdb_v1.0*: This is the main data file. The hdf5 file consists of all the fixation data and the metadata.  \n",
    "*Read gaze data with python*: Python script to read hdf5 file as a dataframe.  \n",
    "*Stimuli/i*: Zip file containing image stimuli used in the study. The encoding convention is same as in the dataframe.\n",
    "##### optional\n",
    "*Metadata*: This is the csv file giving overview of all studies."
   ]
  },
  {
   "cell_type": "code",
   "execution_count": 1,
   "metadata": {},
   "outputs": [],
   "source": [
    "import numpy as np\n",
    "import matplotlib\n",
    "import matplotlib.pyplot as plt\n",
    "import seaborn as sns\n",
    "import statsmodels.api as sm\n",
    "from statsmodels.stats.anova import *\n",
    "from datas.fixmat import *\n",
    "from statsmodels.stats.anova import AnovaRM\n",
    "from statsmodels.stats.api import anova_lm\n",
    "from statsmodels.formula.api import ols"
   ]
  },
  {
   "cell_type": "markdown",
   "metadata": {},
   "source": [
    "## Assignment 0: Peer review for sheet 04 [3 pts]"
   ]
  },
  {
   "cell_type": "markdown",
   "metadata": {},
   "source": [
    "Each group reviews the solutions of two other groups and give points according to the given point distribution considering the correctness of the solution. For this reviews the tutors will give you up to 3 points each week. Follow a distributed comment guidelines if you are unsure.\n",
    "\n",
    "| * |Group 1|Group 2|Group 3|Group 4|Group 5|Group 6|Group 7|Group 8|Group 9|Group 10|Group 11|\n",
    "| ------- | ----- | ----- | ----- | ----- | ----- | ----- | ----- | ----- | ----- | ------ | ------ |\n",
    "| check solutions of group: | 5, 9 | 1, 6  | 4, 7  | 7, 2 | 2, 11 | 8, 3 | 3, 10  | 11, 1  | 10, 4  | 6, 8  | 9, 5   |\n"
   ]
  },
  {
   "cell_type": "markdown",
   "metadata": {},
   "source": [
    "## Assignment 1: Checking the data distribution [9 pts]"
   ]
  },
  {
   "cell_type": "markdown",
   "metadata": {},
   "source": [
    "### a) loading datasets [0 pts]\n",
    "As with any other datasets, the first step is to get an idea of the dataset. Check the meta data and column of the dataframe."
   ]
  },
  {
   "cell_type": "code",
   "execution_count": 2,
   "metadata": {},
   "outputs": [],
   "source": [
    "# use a fixmat.py to load the hdf5 format data as a panda dataframe\n",
    "df, meta = load('datas/etdb_v1.0.hdf5', \"Baseline\")"
   ]
  },
  {
   "cell_type": "code",
   "execution_count": 3,
   "metadata": {
    "scrolled": true
   },
   "outputs": [
    {
     "data": {
      "text/plain": [
       "{'# Fix.': 203772,\n",
       " '# Obs.': 48,\n",
       " 'Age': '23.1 (19-28)',\n",
       " 'Article': 15.0,\n",
       " 'Categories': '7,8,10,11',\n",
       " 'Disp. Size (degree)': '29x22',\n",
       " 'Display': 'SM1100',\n",
       " 'Display resolution (pixels)': '1280x960',\n",
       " 'Eye Tracker': 'EL II',\n",
       " 'ID': 3,\n",
       " 'Img. Pos. (pixel)': '0,0',\n",
       " 'Img. size (pixel)': '1280x960',\n",
       " 'PPD': 45.6,\n",
       " 'Sampling freq. (Hz)': '500 Hz',\n",
       " 'Task': 'FV',\n",
       " 'V. Dur.': '6s',\n",
       " 'V. dist. (cm) ': 80,\n",
       " 'Val. error (degrees)': 0.3}"
      ]
     },
     "execution_count": 3,
     "metadata": {},
     "output_type": "execute_result"
    }
   ],
   "source": [
    "meta"
   ]
  },
  {
   "cell_type": "code",
   "execution_count": 4,
   "metadata": {
    "scrolled": false
   },
   "outputs": [
    {
     "data": {
      "text/html": [
       "<div>\n",
       "<style scoped>\n",
       "    .dataframe tbody tr th:only-of-type {\n",
       "        vertical-align: middle;\n",
       "    }\n",
       "\n",
       "    .dataframe tbody tr th {\n",
       "        vertical-align: top;\n",
       "    }\n",
       "\n",
       "    .dataframe thead th {\n",
       "        text-align: right;\n",
       "    }\n",
       "</style>\n",
       "<table border=\"1\" class=\"dataframe\">\n",
       "  <thead>\n",
       "    <tr style=\"text-align: right;\">\n",
       "      <th></th>\n",
       "      <th>SUBJECTINDEX</th>\n",
       "      <th>category</th>\n",
       "      <th>dataset_nr</th>\n",
       "      <th>end</th>\n",
       "      <th>eye</th>\n",
       "      <th>filenumber</th>\n",
       "      <th>fix</th>\n",
       "      <th>pupil</th>\n",
       "      <th>start</th>\n",
       "      <th>trial</th>\n",
       "      <th>x</th>\n",
       "      <th>y</th>\n",
       "    </tr>\n",
       "  </thead>\n",
       "  <tbody>\n",
       "    <tr>\n",
       "      <th>0</th>\n",
       "      <td>1.0</td>\n",
       "      <td>11.0</td>\n",
       "      <td>3.0</td>\n",
       "      <td>215.0</td>\n",
       "      <td>2.0</td>\n",
       "      <td>25.0</td>\n",
       "      <td>1.0</td>\n",
       "      <td>3287.901123</td>\n",
       "      <td>-183.0</td>\n",
       "      <td>1.0</td>\n",
       "      <td>636.0</td>\n",
       "      <td>489.0</td>\n",
       "    </tr>\n",
       "    <tr>\n",
       "      <th>1</th>\n",
       "      <td>1.0</td>\n",
       "      <td>11.0</td>\n",
       "      <td>3.0</td>\n",
       "      <td>503.0</td>\n",
       "      <td>2.0</td>\n",
       "      <td>25.0</td>\n",
       "      <td>2.0</td>\n",
       "      <td>2872.182129</td>\n",
       "      <td>261.0</td>\n",
       "      <td>1.0</td>\n",
       "      <td>524.0</td>\n",
       "      <td>276.0</td>\n",
       "    </tr>\n",
       "    <tr>\n",
       "      <th>2</th>\n",
       "      <td>1.0</td>\n",
       "      <td>11.0</td>\n",
       "      <td>3.0</td>\n",
       "      <td>819.0</td>\n",
       "      <td>2.0</td>\n",
       "      <td>25.0</td>\n",
       "      <td>3.0</td>\n",
       "      <td>2452.396484</td>\n",
       "      <td>541.0</td>\n",
       "      <td>1.0</td>\n",
       "      <td>592.0</td>\n",
       "      <td>393.0</td>\n",
       "    </tr>\n",
       "    <tr>\n",
       "      <th>3</th>\n",
       "      <td>1.0</td>\n",
       "      <td>11.0</td>\n",
       "      <td>3.0</td>\n",
       "      <td>1103.0</td>\n",
       "      <td>2.0</td>\n",
       "      <td>25.0</td>\n",
       "      <td>4.0</td>\n",
       "      <td>2135.433594</td>\n",
       "      <td>865.0</td>\n",
       "      <td>1.0</td>\n",
       "      <td>367.0</td>\n",
       "      <td>339.0</td>\n",
       "    </tr>\n",
       "    <tr>\n",
       "      <th>4</th>\n",
       "      <td>1.0</td>\n",
       "      <td>11.0</td>\n",
       "      <td>3.0</td>\n",
       "      <td>1399.0</td>\n",
       "      <td>2.0</td>\n",
       "      <td>25.0</td>\n",
       "      <td>5.0</td>\n",
       "      <td>2007.327393</td>\n",
       "      <td>1145.0</td>\n",
       "      <td>1.0</td>\n",
       "      <td>196.0</td>\n",
       "      <td>364.0</td>\n",
       "    </tr>\n",
       "  </tbody>\n",
       "</table>\n",
       "</div>"
      ],
      "text/plain": [
       "   SUBJECTINDEX  category  dataset_nr     end  eye  filenumber  fix  \\\n",
       "0           1.0      11.0         3.0   215.0  2.0        25.0  1.0   \n",
       "1           1.0      11.0         3.0   503.0  2.0        25.0  2.0   \n",
       "2           1.0      11.0         3.0   819.0  2.0        25.0  3.0   \n",
       "3           1.0      11.0         3.0  1103.0  2.0        25.0  4.0   \n",
       "4           1.0      11.0         3.0  1399.0  2.0        25.0  5.0   \n",
       "\n",
       "         pupil   start  trial      x      y  \n",
       "0  3287.901123  -183.0    1.0  636.0  489.0  \n",
       "1  2872.182129   261.0    1.0  524.0  276.0  \n",
       "2  2452.396484   541.0    1.0  592.0  393.0  \n",
       "3  2135.433594   865.0    1.0  367.0  339.0  \n",
       "4  2007.327393  1145.0    1.0  196.0  364.0  "
      ]
     },
     "execution_count": 4,
     "metadata": {},
     "output_type": "execute_result"
    }
   ],
   "source": [
    "df.head()\n",
    "# per trial 19 fixations\n",
    "# 255 trails per subject\n",
    "# measurements lasted for 6 seconds"
   ]
  },
  {
   "cell_type": "markdown",
   "metadata": {},
   "source": [
    "### b) data cleaning [3 pts]\n",
    "We want to clean the dataframe so that it is handy for us to work with it.\n",
    "- How many fixations do we have per category? ```agg``` function might be helpful.\n",
    "- categories are encoded using a number. Add a column to the dataframe that has approporiate string value for that category (e.g. code 11.0 to \"Pink-noise\"). The category names can be found on Figure 2 of the paper.\n",
    "- since measurements lasted for 6 seconds, any fixation points that have a onset time before 0 sec and end time more than 6 sec are erroneous. Remove these rows.\n",
    "- also remove all rows with any NaN values.\n",
    "- add a column called ```duration``` and compute the duration of each fixation.\n",
    "- It is known from previous literature that fixations typically last between 100 msec to 400 msec. Remove all rows with unrealistic  fixation duration.\n",
    "- check how many data points got removed for each category. Let's hope that we didn't delete too many rows from a single category.\n",
    "- count the number of fixations for each trial. To do this, you can use the aggregate method to count the number of rows for each category.\n",
    "- print the mean duration and the mean number of fixation across all trials. Are they in a realistic range?"
   ]
  },
  {
   "cell_type": "code",
   "execution_count": 5,
   "metadata": {
    "scrolled": true
   },
   "outputs": [
    {
     "name": "stdout",
     "output_type": "stream",
     "text": [
      "\n",
      "OLD NR OF FIXATIONS\n",
      "   category    fix\n",
      "0       7.0  52338\n",
      "1       8.0  56680\n",
      "2      10.0  52901\n",
      "3      11.0  41853\n",
      "\n",
      "NEW NR OF FIXATIONS\n",
      "   category    fix\n",
      "0       7.0  40766\n",
      "1       8.0  45865\n",
      "2      10.0  40922\n",
      "3      11.0  28112\n",
      "deleted rows:\n",
      "0    11572\n",
      "1    10815\n",
      "2    11979\n",
      "3    13741\n",
      "Name: fix, dtype: int64\n"
     ]
    }
   ],
   "source": [
    "# count number of fixations in a category\n",
    "category_fixations = df.groupby('category', as_index=False).agg({'fix': 'count'})\n",
    "\n",
    "# create new column with renamed categories\n",
    "categories = {7:'Natural', 8:'Urban', 10:'Fractals', 11:'Pink-noise'}\n",
    "df['categoryname'] = df['category'].map(categories)\n",
    "\n",
    "# remove rows that have incorrect start or time value\n",
    "df = df[(df['start'] > 0) & (df['start'] < 6000)]\n",
    "\n",
    "# remove NAN rows\n",
    "df = df.dropna()\n",
    "\n",
    "# add duration column\n",
    "df['duration'] = df[\"end\"] - df[\"start\"]\n",
    "\n",
    "# remove rows with unrealistic duration values\n",
    "df = df[(df[\"duration\"] > 100) & (df[\"duration\"] < 400)]\n",
    "\n",
    "# count number of fixations again\n",
    "new_count = df.groupby('category', as_index=False).agg({'fix': 'count'})\n",
    "\n",
    "# print old and new number of fixations\n",
    "print(\"\\nOLD NR OF FIXATIONS\")\n",
    "print(category_fixations.head())\n",
    "print(\"\\nNEW NR OF FIXATIONS\")\n",
    "print(new_count.head())\n",
    "\n",
    "# print the difference\n",
    "print(\"deleted rows:\")\n",
    "print(category_fixations['fix'] - new_count['fix'])"
   ]
  },
  {
   "cell_type": "code",
   "execution_count": 6,
   "metadata": {},
   "outputs": [
    {
     "name": "stdout",
     "output_type": "stream",
     "text": [
      "mean duration time: 239.93448\n",
      "mean fixations: 12.859562164394879\n"
     ]
    }
   ],
   "source": [
    "# group by category, subID, trial and count the fixations for each trial\n",
    "count_trial = df.groupby(['categoryname', 'SUBJECTINDEX', 'filenumber', 'trial'], as_index=False).agg({'fix': 'count'})\n",
    "\n",
    "# print mean of the duration time\n",
    "print(\"mean duration time:\", df[\"duration\"].mean())\n",
    "# print mean of fixations across all trials \n",
    "print(\"mean fixations:\", count_trial[\"fix\"].mean())"
   ]
  },
  {
   "cell_type": "markdown",
   "metadata": {},
   "source": [
    "The mean of the duration time is realistic as it is known that the duration lies in between 100ms and 400ms. With a mean of 13 fixations at around 240ms we sum up at around 3000ms, but one trial lasted 6000ms. This could be explained by removed fixations with a duration outside of 100ms to 400ms."
   ]
  },
  {
   "cell_type": "markdown",
   "metadata": {},
   "source": [
    "### c) visualizing data distribution [3 pts]\n",
    "Are there any inter-subject difference and effect of different category in our data?\n",
    "- plot the mean duration for each category (4 x-values) and the mean duration for each subject (48 x-values).\n",
    "\n",
    "- plot the mean number of fixations for each category (4 x-values) and the mean number of fixation for each subject (48 x-values)."
   ]
  },
  {
   "cell_type": "code",
   "execution_count": 7,
   "metadata": {
    "scrolled": false
   },
   "outputs": [
    {
     "data": {
      "image/png": "[encoded data removed]",
      "text/plain": [
       "<Figure size 1080x1080 with 4 Axes>"
      ]
     },
     "metadata": {
      "needs_background": "light"
     },
     "output_type": "display_data"
    }
   ],
   "source": [
    "#mean duration for each category\n",
    "cat_dur = df.groupby('categoryname', as_index=False)['duration'].mean()\n",
    "#mean duration for each subject over all categories and trials\n",
    "sub_dur = df.groupby('SUBJECTINDEX', as_index=False)['duration'].mean()\n",
    "\n",
    "#mean number of fixations for each category\n",
    "cat_fix = count_trial.groupby('categoryname', as_index=False)['fix'].mean()\n",
    "\n",
    "#mean number of fixations for each subject over all categories and trials\n",
    "sub_fix = count_trial.groupby('SUBJECTINDEX', as_index=False)['fix'].mean()\n",
    "\n",
    "# PLOTTING\n",
    "fig, axes = plt.subplots(nrows=2, ncols=2, figsize=(15,15))\n",
    "axes = axes.flatten()\n",
    "\n",
    "ax1 = sns.barplot(x='categoryname', y='duration', data=cat_dur, palette='Blues', ax=axes[0])\n",
    "ax2 = sns.barplot(x='SUBJECTINDEX', y='duration', data=sub_dur, palette='Blues', ax=axes[1])\n",
    "ax3 = sns.barplot(x='categoryname', y='fix', data=cat_fix, palette='Blues', ax=axes[2])\n",
    "ax4 = sns.barplot(x='SUBJECTINDEX', y='fix', data=sub_fix, palette='Blues', ax=axes[3])\n",
    "\n",
    "plt.sca(axes[0])\n",
    "plt.ylabel('Duration',fontsize=15)\n",
    "plt.xlabel('Category',fontsize=15)\n",
    "\n",
    "plt.sca(axes[1])\n",
    "plt.xticks(ticks=[0,10,20,30,40], labels=[0,10,20,30,40])\n",
    "plt.ylabel('Duration',fontsize=15)\n",
    "plt.xlabel('SubjectID',fontsize=15)\n",
    "\n",
    "plt.sca(axes[2])\n",
    "plt.ylabel('Fixation',fontsize=15)\n",
    "plt.xlabel('Category',fontsize=15)\n",
    "\n",
    "plt.sca(axes[3])\n",
    "plt.xticks(ticks=[0,10,20,30,40], labels=[0,10,20,30,40])\n",
    "plt.ylabel('Fixation',fontsize=15)\n",
    "plt.xlabel('SubjectID',fontsize=15)\n",
    "\n",
    "plt.show()"
   ]
  },
  {
   "cell_type": "markdown",
   "metadata": {},
   "source": [
    "### d) normally distributed data [3 pts]\n",
    "As ANOVA and lots of other statistical tests can be used only for normally distributed varaibles, it makes sense to find out whether the fixation duration and the number of fixations per trial is also normally distributed. This can be done with a Q-Q-Plot, which  is a graphical technique for determining if two data sets come from populations with a common distribution, in this case a normal distribution (for more information, klick [here](https://www.itl.nist.gov/div898/handbook/eda/section3/eda33o.htm)).\n",
    "- make a Q-Q plot of the variable *fixation duration*. Is it approximately normally distributed?\n",
    "- make a Q-Q plot of the variable *# fixation per trial*. Is it approximately normally distributed?"
   ]
  },
  {
   "cell_type": "code",
   "execution_count": 8,
   "metadata": {
    "scrolled": false
   },
   "outputs": [
    {
     "data": {
      "image/png": "[encoded data removed]",
      "text/plain": [
       "<Figure size 1080x504 with 2 Axes>"
      ]
     },
     "metadata": {
      "needs_background": "light"
     },
     "output_type": "display_data"
    }
   ],
   "source": [
    "fig, axes = plt.subplots(ncols=2, figsize = (15,7))\n",
    "\n",
    "# plot quantiles of fixation duration and fixation per trial against quantiles of a normal distribution\n",
    "sm.qqplot(data=df['duration'], line='r', dist='norm', ax=axes[0])\n",
    "sm.qqplot(data=count_trial['fix'], line='r', dist='norm', ax=axes[1])\n",
    "\n",
    "plt.show()"
   ]
  },
  {
   "cell_type": "markdown",
   "metadata": {},
   "source": [
    "what do you think?\n",
    "\n",
    "The fixation duration is not normally distributed because one can see that the blue line does not correspond to the red line. There are too many datapoints in the time 100ms and 400ms duration.\n",
    "The fixation per trial seems also not really normally distributed. There many (not too many as for the duration but still too many) datapoint in the outer quantiles."
   ]
  },
  {
   "cell_type": "markdown",
   "metadata": {},
   "source": [
    "## Assignment 2: Hypothesis testing [3 pts]"
   ]
  },
  {
   "cell_type": "markdown",
   "metadata": {},
   "source": [
    "### a) one way ANOVA [3 pts]\n",
    "Now it's time to really prove our intuition. Test the following null hypotheses:  \n",
    "$H01$: There is no difference in fixation duration across 4 different categories.  \n",
    "$H02$: There is no difference in the number of fixations across 4 different categories.\n",
    "\n",
    "What do you find?"
   ]
  },
  {
   "cell_type": "code",
   "execution_count": 9,
   "metadata": {},
   "outputs": [
    {
     "data": {
      "text/html": [
       "<div>\n",
       "<style scoped>\n",
       "    .dataframe tbody tr th:only-of-type {\n",
       "        vertical-align: middle;\n",
       "    }\n",
       "\n",
       "    .dataframe tbody tr th {\n",
       "        vertical-align: top;\n",
       "    }\n",
       "\n",
       "    .dataframe thead th {\n",
       "        text-align: right;\n",
       "    }\n",
       "</style>\n",
       "<table border=\"1\" class=\"dataframe\">\n",
       "  <thead>\n",
       "    <tr style=\"text-align: right;\">\n",
       "      <th></th>\n",
       "      <th>df</th>\n",
       "      <th>sum_sq</th>\n",
       "      <th>mean_sq</th>\n",
       "      <th>F</th>\n",
       "      <th>PR(&gt;F)</th>\n",
       "    </tr>\n",
       "  </thead>\n",
       "  <tbody>\n",
       "    <tr>\n",
       "      <th>category</th>\n",
       "      <td>1.0</td>\n",
       "      <td>51.314043</td>\n",
       "      <td>51.314043</td>\n",
       "      <td>0.7219</td>\n",
       "      <td>0.485006</td>\n",
       "    </tr>\n",
       "    <tr>\n",
       "      <th>Residual</th>\n",
       "      <td>2.0</td>\n",
       "      <td>142.163829</td>\n",
       "      <td>71.081915</td>\n",
       "      <td>NaN</td>\n",
       "      <td>NaN</td>\n",
       "    </tr>\n",
       "  </tbody>\n",
       "</table>\n",
       "</div>"
      ],
      "text/plain": [
       "           df      sum_sq    mean_sq       F    PR(>F)\n",
       "category  1.0   51.314043  51.314043  0.7219  0.485006\n",
       "Residual  2.0  142.163829  71.081915     NaN       NaN"
      ]
     },
     "execution_count": 9,
     "metadata": {},
     "output_type": "execute_result"
    }
   ],
   "source": [
    "# H01\n",
    "df_duration = df.groupby('category', as_index=False).agg({'duration': 'mean'})\n",
    "dur_model = ols('duration ~ category', data=df_duration).fit()\n",
    "table = anova_lm(dur_model, typ=1)\n",
    "table"
   ]
  },
  {
   "cell_type": "code",
   "execution_count": 10,
   "metadata": {
    "scrolled": true
   },
   "outputs": [
    {
     "data": {
      "text/html": [
       "<div>\n",
       "<style scoped>\n",
       "    .dataframe tbody tr th:only-of-type {\n",
       "        vertical-align: middle;\n",
       "    }\n",
       "\n",
       "    .dataframe tbody tr th {\n",
       "        vertical-align: top;\n",
       "    }\n",
       "\n",
       "    .dataframe thead th {\n",
       "        text-align: right;\n",
       "    }\n",
       "</style>\n",
       "<table border=\"1\" class=\"dataframe\">\n",
       "  <thead>\n",
       "    <tr style=\"text-align: right;\">\n",
       "      <th></th>\n",
       "      <th>df</th>\n",
       "      <th>sum_sq</th>\n",
       "      <th>mean_sq</th>\n",
       "      <th>F</th>\n",
       "      <th>PR(&gt;F)</th>\n",
       "    </tr>\n",
       "  </thead>\n",
       "  <tbody>\n",
       "    <tr>\n",
       "      <th>category</th>\n",
       "      <td>1.0</td>\n",
       "      <td>91512300.10</td>\n",
       "      <td>9.151230e+07</td>\n",
       "      <td>2.260979</td>\n",
       "      <td>0.27156</td>\n",
       "    </tr>\n",
       "    <tr>\n",
       "      <th>Residual</th>\n",
       "      <td>2.0</td>\n",
       "      <td>80949252.65</td>\n",
       "      <td>4.047463e+07</td>\n",
       "      <td>NaN</td>\n",
       "      <td>NaN</td>\n",
       "    </tr>\n",
       "  </tbody>\n",
       "</table>\n",
       "</div>"
      ],
      "text/plain": [
       "           df       sum_sq       mean_sq         F   PR(>F)\n",
       "category  1.0  91512300.10  9.151230e+07  2.260979  0.27156\n",
       "Residual  2.0  80949252.65  4.047463e+07       NaN      NaN"
      ]
     },
     "execution_count": 10,
     "metadata": {},
     "output_type": "execute_result"
    }
   ],
   "source": [
    "# H02\n",
    "df_fix = df.groupby('category', as_index=False).agg({'fix': 'count'})\n",
    "fix_model = ols('fix ~ category', data=df_fix).fit()\n",
    "table = anova_lm(fix_model, typ=1)\n",
    "table"
   ]
  },
  {
   "cell_type": "markdown",
   "metadata": {},
   "source": [
    "what do you say?\n",
    "\n",
    "In the first case there is a p-value of 0.4 that indicates that the difference is not significant. We can not reject h01.\n",
    "In the second case there is a p-value of 0.271 which is not significant enough to reject the hypothesis h02."
   ]
  },
  {
   "cell_type": "markdown",
   "metadata": {},
   "source": [
    "## Assignment 3: Binning [4 pts]"
   ]
  },
  {
   "cell_type": "markdown",
   "metadata": {},
   "source": [
    "### a) distribution of # fixation [2 pts]\n",
    "Now we would like to know if there's a difference in terms of fixation numbers at different time segment.\n",
    "- make a histogram with x axis being the start time of fixation\n",
    "- the bin size should be 1 sec. In total there would be 6 bins.\n",
    "- average over all subjects and images, just make a one simple plot\n",
    "- figure out mean fixation duration for each bin and print it\n"
   ]
  },
  {
   "cell_type": "code",
   "execution_count": 11,
   "metadata": {},
   "outputs": [
    {
     "data": {
      "image/png": "[encoded data removed]",
      "text/plain": [
       "<Figure size 432x288 with 1 Axes>"
      ]
     },
     "metadata": {
      "needs_background": "light"
     },
     "output_type": "display_data"
    },
    {
     "name": "stdout",
     "output_type": "stream",
     "text": [
      "400500\n",
      "406890\n",
      "406275\n",
      "396000\n",
      "385365\n",
      "339945\n",
      "size 2334975\n",
      "correct size 2179310\n",
      "Mean of bins:\n",
      "1 232.82413\n",
      "2 242.93077\n",
      "3 242.8861\n",
      "4 243.19818\n",
      "5 243.33463\n",
      "6 233.54128\n"
     ]
    },
    {
     "data": {
      "text/plain": [
       "[None, None, None, None, None, None]"
      ]
     },
     "execution_count": 11,
     "metadata": {},
     "output_type": "execute_result"
    }
   ],
   "source": [
    "# suprss warning about SettingWithCopyWarning, for us it is not important in this case\n",
    "pd.options.mode.chained_assignment = None  # default='warn'\n",
    "\n",
    "# start time of fixations\n",
    "plt.hist(df['start'], bins=6)\n",
    "plt.title(\"Distribution of fixations\")\n",
    "plt.xlabel(\"fixation start in ms\")\n",
    "plt.ylabel(\"freq\")\n",
    "plt.show()\n",
    "\n",
    "# we need fixation durations for every bin\n",
    "# add columns to remember the bin number for the next task\n",
    "\n",
    "df_1 = df[df['start'] < 1000]\n",
    "df_2 = df[(df['start'] < 2000) & (df['start'] >= 1000)]\n",
    "df_3 = df[(df['start'] < 3000) & (df['start'] >= 2000)]\n",
    "df_4 = df[(df['start'] < 4000) & (df['start'] >= 3000)]\n",
    "df_5 = df[(df['start'] < 5000) & (df['start'] >= 4000)]\n",
    "df_6 = df[(df['start'] <= 6000) & (df['start'] >= 5000)]\n",
    "\n",
    "bins = [df_1, df_2, df_3, df_4, df_5, df_6]\n",
    "size = 0\n",
    "for i, bin in enumerate(bins):\n",
    "    bin['bin'] = i+1\n",
    "    print(bin.size)\n",
    "    size += bin.size\n",
    "\n",
    "print(\"size\", size)\n",
    "print(\"correct size\", df.size)\n",
    "\n",
    "\n",
    "df_bins = pd.concat(bins)\n",
    "all_means = [bin['duration'].mean() for bin in bins]\n",
    "\n",
    "print(\"Mean of bins:\")\n",
    "[print(i+1, mean) for i,mean in enumerate(all_means)]"
   ]
  },
  {
   "cell_type": "markdown",
   "metadata": {},
   "source": [
    "### b) leftward bias [2 pts]\n",
    "If you took Action & Cognition I, you have probably heard about the leftward bias in human's fixation behavior. It is known that people tend to look more at the left visual field for the initial first second. Check whether this holds for our dataset as well.\n",
    "- make a pointplot with x-axis as the x-coordinate of each fixation point and y-axis as the time bin to which the fixation point belongs to.\n",
    "- mark the confidence interval around each point.\n",
    "- make a vertical line at middle point of the x values. The x-coordinate of the fixation point in the data is based on the coordinate system using the display resolution. You can find out the information about display resolution by taking a look at the meta data."
   ]
  },
  {
   "cell_type": "code",
   "execution_count": 12,
   "metadata": {},
   "outputs": [
    {
     "name": "stdout",
     "output_type": "stream",
     "text": [
      "2179310\n",
      "2334975\n",
      "    SUBJECTINDEX  category  dataset_nr     end  eye  filenumber  fix  \\\n",
      "1            1.0      11.0         3.0   503.0  2.0        25.0  2.0   \n",
      "2            1.0      11.0         3.0   819.0  2.0        25.0  3.0   \n",
      "3            1.0      11.0         3.0  1103.0  2.0        25.0  4.0   \n",
      "20           1.0       8.0         3.0   402.0  2.0        20.0  2.0   \n",
      "21           1.0       8.0         3.0   714.0  2.0        20.0  3.0   \n",
      "\n",
      "          pupil  start  trial      x      y categoryname  duration  bin  \n",
      "1   2872.182129  261.0    1.0  524.0  276.0   Pink-noise     242.0    1  \n",
      "2   2452.396484  541.0    1.0  592.0  393.0   Pink-noise     278.0    1  \n",
      "3   2135.433594  865.0    1.0  367.0  339.0   Pink-noise     238.0    1  \n",
      "20  2834.829590  260.0    2.0  618.0  644.0        Urban     142.0    1  \n",
      "21  2419.497070  448.0    2.0  407.0  618.0        Urban     266.0    1  \n"
     ]
    }
   ],
   "source": [
    "print(df.size)\n",
    "print(df_bins.size)\n",
    "print(df_bins.head())"
   ]
  },
  {
   "cell_type": "code",
   "execution_count": 23,
   "metadata": {},
   "outputs": [
    {
     "data": {
      "image/png": "[encoded data removed]",
      "text/plain": [
       "<Figure size 432x288 with 1 Axes>"
      ]
     },
     "metadata": {
      "needs_background": "light"
     },
     "output_type": "display_data"
    }
   ],
   "source": [
    "#fig.set_size_inches(8, 10)\n",
    "\n",
    "ax1 = sns.pointplot(x='bin', y='x',ci= 'sd', data=df_bins) \n",
    "\n",
    "# set some options for a nice plot\n",
    "#ax1.set_xlabel('x-coordinate')\n",
    "#ax1.set_ylabel('bin')\n",
    "\n",
    "#ax1.set_title('Leftward Bias', fontsize=14, pad=10)\n",
    "\n",
    "#plt.subplots_adjust(hspace=0.4)"
   ]
  },
  {
   "cell_type": "markdown",
   "metadata": {},
   "source": [
    "## Assignment 4: Heatmap [4 pts]\n",
    "Now let's use heatmap to visualize which part of pictures is fixated for how long. It would be also good to know if there's a difference between categories.\n",
    "- make a heatmap for data consisting of each categories and then averaged across all data.\n",
    "- mark a central point in the plot.\n",
    "- you can use ```numpy.histogram2d``` to compute a bi-dimensional histogram.\n",
    "- then you can use ```pyplot.imshow``` to plot these histogram.\n",
    "- don't forget to use the parameter ```extent``` to control for the bounding box to which the image should fit in.\n",
    "- if you want to use other functions that's surely fine as well."
   ]
  },
  {
   "cell_type": "code",
   "execution_count": 14,
   "metadata": {
    "scrolled": true
   },
   "outputs": [
    {
     "data": {
      "image/png": "[encoded data removed]",
      "text/plain": [
       "<Figure size 504x216 with 1 Axes>"
      ]
     },
     "metadata": {
      "needs_background": "light"
     },
     "output_type": "display_data"
    },
    {
     "data": {
      "image/png": "[encoded data removed]",
      "text/plain": [
       "<Figure size 504x216 with 1 Axes>"
      ]
     },
     "metadata": {
      "needs_background": "light"
     },
     "output_type": "display_data"
    },
    {
     "data": {
      "image/png": "[encoded data removed]",
      "text/plain": [
       "<Figure size 504x216 with 1 Axes>"
      ]
     },
     "metadata": {
      "needs_background": "light"
     },
     "output_type": "display_data"
    }
   ],
   "source": [
    "x_urban = df[df['categoryname'] == 'Urban']['x']\n",
    "y_urban = df[df['categoryname'] == 'Urban']['y']\n",
    "\n",
    "x_pinknoise = df[df['categoryname'] == 'Pink-noise']['x']\n",
    "y_pinknoise = df[df['categoryname'] == 'Pink-noise']['y']\n",
    "\n",
    "x_natural = df[df['categoryname'] == 'Natural']['x']\n",
    "y_natural = df[df['categoryname'] == 'Natural']['y']\n",
    "\n",
    "x_fractal = df[df['categoryname'] == 'Fractal']['x']\n",
    "y_fractal = df[df['categoryname'] == 'Fractal']['y']\n",
    "\n",
    "x_all = df['x']\n",
    "y_all = df['y']\n",
    "\n",
    "#fig, axes = plt.subplots(ncols=5, figsize = (15,7))\n",
    "\n",
    "fig = plt.figure(figsize=(7, 3))\n",
    "ax = fig.add_subplot(151, title='Urban')\n",
    "H, xedges, yedges = np.histogram2d(x_urban, y_urban, bins=80, density=True)\n",
    "plt.imshow(H.T, interpolation='nearest', origin='low',\n",
    "        extent=[xedges[0], xedges[-1], yedges[0], yedges[-1]])\n",
    "\n",
    "fig = plt.figure(figsize=(7, 3))\n",
    "ax = fig.add_subplot(152, title='Pink-noise')\n",
    "H, xedges1, yedges1 = np.histogram2d(x_pinknoise, y_pinknoise, bins=80, density=True)\n",
    "plt.imshow(H.T, interpolation='nearest', origin='low',\n",
    "        extent=[xedges1[0], xedges1[-1], yedges1[0], yedges1[-1]])\n",
    "\n",
    "fig = plt.figure(figsize=(7, 3))\n",
    "ax = fig.add_subplot(153, title='Natural')\n",
    "H, xedges, yedges = np.histogram2d(x_natural, y_natural, bins=80, density=True)\n",
    "plt.imshow(H.T, interpolation='nearest', origin='low',\n",
    "        extent=[xedges[0], xedges[-1], yedges[0], yedges[-1]])\n",
    "\n",
    "plt.show()"
   ]
  },
  {
   "cell_type": "code",
   "execution_count": 15,
   "metadata": {},
   "outputs": [
    {
     "name": "stderr",
     "output_type": "stream",
     "text": [
      "C:\\Users\\Rosa\\Anaconda3\\envs\\acc\\lib\\site-packages\\numpy\\lib\\histograms.py:1097: RuntimeWarning: invalid value encountered in true_divide\n",
      "  hist /= s\n"
     ]
    },
    {
     "data": {
      "text/plain": [
       "<matplotlib.image.AxesImage at 0x1e17d9f6278>"
      ]
     },
     "execution_count": 15,
     "metadata": {},
     "output_type": "execute_result"
    },
    {
     "name": "stderr",
     "output_type": "stream",
     "text": [
      "C:\\Users\\Rosa\\Anaconda3\\envs\\acc\\lib\\site-packages\\matplotlib\\image.py:395: UserWarning: Warning: converting a masked element to nan.\n",
      "  dv = (np.float64(self.norm.vmax) -\n",
      "C:\\Users\\Rosa\\Anaconda3\\envs\\acc\\lib\\site-packages\\matplotlib\\image.py:396: UserWarning: Warning: converting a masked element to nan.\n",
      "  np.float64(self.norm.vmin))\n",
      "C:\\Users\\Rosa\\Anaconda3\\envs\\acc\\lib\\site-packages\\matplotlib\\image.py:403: UserWarning: Warning: converting a masked element to nan.\n",
      "  a_min = np.float64(newmin)\n",
      "C:\\Users\\Rosa\\Anaconda3\\envs\\acc\\lib\\site-packages\\matplotlib\\image.py:408: UserWarning: Warning: converting a masked element to nan.\n",
      "  a_max = np.float64(newmax)\n",
      "C:\\Users\\Rosa\\Anaconda3\\envs\\acc\\lib\\site-packages\\matplotlib\\colors.py:918: UserWarning: Warning: converting a masked element to nan.\n",
      "  dtype = np.min_scalar_type(value)\n",
      "C:\\Users\\Rosa\\Anaconda3\\envs\\acc\\lib\\site-packages\\numpy\\ma\\core.py:713: UserWarning: Warning: converting a masked element to nan.\n",
      "  data = np.array(a, copy=False, subok=subok)\n",
      "C:\\Users\\Rosa\\Anaconda3\\envs\\acc\\lib\\site-packages\\matplotlib\\colors.py:918: UserWarning: Warning: converting a masked element to nan.\n",
      "  dtype = np.min_scalar_type(value)\n",
      "C:\\Users\\Rosa\\Anaconda3\\envs\\acc\\lib\\site-packages\\numpy\\ma\\core.py:713: UserWarning: Warning: converting a masked element to nan.\n",
      "  data = np.array(a, copy=False, subok=subok)\n",
      "C:\\Users\\Rosa\\Anaconda3\\envs\\acc\\lib\\site-packages\\matplotlib\\image.py:395: UserWarning: Warning: converting a masked element to nan.\n",
      "  dv = (np.float64(self.norm.vmax) -\n",
      "C:\\Users\\Rosa\\Anaconda3\\envs\\acc\\lib\\site-packages\\matplotlib\\image.py:396: UserWarning: Warning: converting a masked element to nan.\n",
      "  np.float64(self.norm.vmin))\n",
      "C:\\Users\\Rosa\\Anaconda3\\envs\\acc\\lib\\site-packages\\matplotlib\\image.py:403: UserWarning: Warning: converting a masked element to nan.\n",
      "  a_min = np.float64(newmin)\n",
      "C:\\Users\\Rosa\\Anaconda3\\envs\\acc\\lib\\site-packages\\matplotlib\\image.py:408: UserWarning: Warning: converting a masked element to nan.\n",
      "  a_max = np.float64(newmax)\n",
      "C:\\Users\\Rosa\\Anaconda3\\envs\\acc\\lib\\site-packages\\matplotlib\\colors.py:918: UserWarning: Warning: converting a masked element to nan.\n",
      "  dtype = np.min_scalar_type(value)\n",
      "C:\\Users\\Rosa\\Anaconda3\\envs\\acc\\lib\\site-packages\\numpy\\ma\\core.py:713: UserWarning: Warning: converting a masked element to nan.\n",
      "  data = np.array(a, copy=False, subok=subok)\n",
      "C:\\Users\\Rosa\\Anaconda3\\envs\\acc\\lib\\site-packages\\matplotlib\\colors.py:918: UserWarning: Warning: converting a masked element to nan.\n",
      "  dtype = np.min_scalar_type(value)\n",
      "C:\\Users\\Rosa\\Anaconda3\\envs\\acc\\lib\\site-packages\\numpy\\ma\\core.py:713: UserWarning: Warning: converting a masked element to nan.\n",
      "  data = np.array(a, copy=False, subok=subok)\n",
      "C:\\Users\\Rosa\\Anaconda3\\envs\\acc\\lib\\site-packages\\matplotlib\\image.py:395: UserWarning: Warning: converting a masked element to nan.\n",
      "  dv = (np.float64(self.norm.vmax) -\n",
      "C:\\Users\\Rosa\\Anaconda3\\envs\\acc\\lib\\site-packages\\matplotlib\\image.py:396: UserWarning: Warning: converting a masked element to nan.\n",
      "  np.float64(self.norm.vmin))\n",
      "C:\\Users\\Rosa\\Anaconda3\\envs\\acc\\lib\\site-packages\\matplotlib\\image.py:403: UserWarning: Warning: converting a masked element to nan.\n",
      "  a_min = np.float64(newmin)\n",
      "C:\\Users\\Rosa\\Anaconda3\\envs\\acc\\lib\\site-packages\\matplotlib\\image.py:408: UserWarning: Warning: converting a masked element to nan.\n",
      "  a_max = np.float64(newmax)\n",
      "C:\\Users\\Rosa\\Anaconda3\\envs\\acc\\lib\\site-packages\\matplotlib\\colors.py:918: UserWarning: Warning: converting a masked element to nan.\n",
      "  dtype = np.min_scalar_type(value)\n",
      "C:\\Users\\Rosa\\Anaconda3\\envs\\acc\\lib\\site-packages\\numpy\\ma\\core.py:713: UserWarning: Warning: converting a masked element to nan.\n",
      "  data = np.array(a, copy=False, subok=subok)\n",
      "C:\\Users\\Rosa\\Anaconda3\\envs\\acc\\lib\\site-packages\\matplotlib\\colors.py:918: UserWarning: Warning: converting a masked element to nan.\n",
      "  dtype = np.min_scalar_type(value)\n",
      "C:\\Users\\Rosa\\Anaconda3\\envs\\acc\\lib\\site-packages\\numpy\\ma\\core.py:713: UserWarning: Warning: converting a masked element to nan.\n",
      "  data = np.array(a, copy=False, subok=subok)\n"
     ]
    },
    {
     "data": {
      "image/png": "[encoded data removed]",
      "text/plain": [
       "<Figure size 432x288 with 1 Axes>"
      ]
     },
     "metadata": {
      "needs_background": "light"
     },
     "output_type": "display_data"
    }
   ],
   "source": [
    "ax = fig.add_subplot(131, title='imshow: square bins')\n",
    "H, xedges, yedges = np.histogram2d(x_fractal, y_fractal, bins=80, density=True)\n",
    "plt.imshow(H.T, interpolation='nearest', origin='low',\n",
    "        extent=[xedges[0], xedges[-1], yedges[0], yedges[-1]])\n",
    "\n"
   ]
  },
  {
   "cell_type": "markdown",
   "metadata": {},
   "source": [
    "## Assignment 5: Scanpath [5 pts]\n",
    "We want to know whether different scan behaviour is used when viewing images of different categories. Scanpath is a path followed by the eyes when viewing a stimulus. Scanpaths are useful for analyzing cognitive intent, interest, and salience. It has an advantage to a heatmap because the information about temporal structure of viewing behaviour can be plotted.\n",
    "- make four plots, one for each category.\n",
    "- randomely choose one trial for which you will plot a scanpath.\n",
    "- mark fixation points based on the x-y coordinates.\n",
    "- plot the *saccade path* from one fixation point to another one.\n",
    "- make sure that the order of fixation can be read out from the plot. E.g. earlier fixations could have a light color whereas later fixations could have dark colors.\n",
    "- also include information about the duration of each fixation. One way to do it is the use the size of the fixation marker.\n",
    "- plot the background image superimposed with the scanpath. "
   ]
  },
  {
   "cell_type": "code",
   "execution_count": 16,
   "metadata": {
    "scrolled": false
   },
   "outputs": [],
   "source": [
    "# TODO"
   ]
  },
  {
   "cell_type": "markdown",
   "metadata": {},
   "source": [
    "# Citation\n",
    "Wilming N, Onat S, Ossandón J, Acik A, Kietzmann TC, Kaspar K, Gameiro RR, Vormberg A, König P (2017) An extensive dataset of eye movements during viewing of complex images. Scientific Data 4: 160126. https://doi.org/10.1038/sdata.2016.126  \n",
    "Wilming N, Onat S, Ossandón J, Acik A, Kietzmann TC, Kaspar K, Gameiro RR, Vormberg A, König P (2017) Data from: An extensive dataset of eye movements during viewing of complex images. Dryad Digital Repository. https://doi.org/10.5061/dryad.9pf75"
   ]
  }
 ],
 "metadata": {
  "kernelspec": {
   "display_name": "Python 3",
   "language": "python",
   "name": "python3"
  },
  "language_info": {
   "codemirror_mode": {
    "name": "ipython",
    "version": 3
   },
   "file_extension": ".py",
   "mimetype": "text/x-python",
   "name": "python",
   "nbconvert_exporter": "python",
   "pygments_lexer": "ipython3",
   "version": "3.6.7"
  }
 },
 "nbformat": 4,
 "nbformat_minor": 2
}
