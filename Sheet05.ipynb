{
 "cells": [
  {
   "cell_type": "markdown",
   "metadata": {},
   "source": [
    "Osnabrück University - A&C: Computational Cognition (Summer Term 2019)"
   ]
  },
  {
   "cell_type": "markdown",
   "metadata": {},
   "source": [
    "# Exercise Sheet 05: Eye tracking"
   ]
  },
  {
   "cell_type": "markdown",
   "metadata": {},
   "source": [
    "## Introduction\n",
    "\n",
    "This week's sheet should be solved and handed in at 14:00 at **Tuesday, May 28, 2019**. If you need help (and Google and other resources were not enough), feel free to contact your tutors. Please push your results to your Github group folder.\n",
    "\n",
    "For this exercise sheet you will have 2 weeks and the sheet is also worth of 30 points. In this exercise sheet you will start to work with eye tracking data. Note that the data we will use here are not raw gaze data and contain coordinates of fixation points.\n",
    "\n",
    "The dataset is distributed freely by a following study: [Wilming, N. Dryad](https://www.nature.com/articles/sdata2016126#data-citations). By clicking on the link in the section \"Data Citations\" you will get redirected to the page where you can download all the data openly distributed. Read below for description of each file.\n",
    "\n",
    "##### necessary\n",
    "*etdb_v1.0*: This is the main data file. The hdf5 file consists of all the fixation data and the metadata.  \n",
    "*Read gaze data with python*: Python script to read hdf5 file as a dataframe.  \n",
    "*Stimuli/i*: Zip file containing image stimuli used in the study. The encoding convention is same as in the dataframe.\n",
    "##### optional\n",
    "*Metadata*: This is the csv file giving overview of all studies."
   ]
  },
  {
   "cell_type": "code",
   "execution_count": 3,
   "metadata": {},
   "outputs": [],
   "source": [
    "import numpy as np\n",
    "import matplotlib\n",
    "import matplotlib.pyplot as plt\n",
    "import seaborn as sns\n",
    "import statsmodels.api as sm\n",
    "from statsmodels.stats.anova import *\n",
    "from datas.fixmat import *"
   ]
  },
  {
   "cell_type": "markdown",
   "metadata": {},
   "source": [
    "## Assignment 0: Peer review for sheet 04 [3 pts]"
   ]
  },
  {
   "cell_type": "markdown",
   "metadata": {},
   "source": [
    "Each group reviews the solutions of two other groups and give points according to the given point distribution considering the correctness of the solution. For this reviews the tutors will give you up to 3 points each week. Follow a distributed comment guidelines if you are unsure.\n",
    "\n",
    "| * |Group 1|Group 2|Group 3|Group 4|Group 5|Group 6|Group 7|Group 8|Group 9|Group 10|Group 11|\n",
    "| ------- | ----- | ----- | ----- | ----- | ----- | ----- | ----- | ----- | ----- | ------ | ------ |\n",
    "| check solutions of group: | 5, 9 | 1, 6  | 4, 7  | 7, 2 | 2, 11 | 8, 3 | 3, 10  | 11, 1  | 10, 4  | 6, 8  | 9, 5   |\n"
   ]
  },
  {
   "cell_type": "markdown",
   "metadata": {},
   "source": [
    "## Assignment 1: Checking the data distribution [9 pts]"
   ]
  },
  {
   "cell_type": "markdown",
   "metadata": {},
   "source": [
    "### a) loading datasets [0 pts]\n",
    "As with any other datasets, the first step is to get an idea of the dataset. Check the meta data and column of the dataframe."
   ]
  },
  {
   "cell_type": "code",
   "execution_count": 4,
   "metadata": {},
   "outputs": [],
   "source": [
    "# use a fixmat.py to load the hdf5 format data as a panda dataframe\n",
    "df, meta = load('datas/etdb_v1.0.hdf5', \"Baseline\")"
   ]
  },
  {
   "cell_type": "code",
   "execution_count": 5,
   "metadata": {
    "scrolled": true
   },
   "outputs": [
    {
     "data": {
      "text/plain": [
       "{'# Fix.': 203772,\n",
       " '# Obs.': 48,\n",
       " 'Age': '23.1 (19-28)',\n",
       " 'Article': 15.0,\n",
       " 'Categories': '7,8,10,11',\n",
       " 'Disp. Size (degree)': '29x22',\n",
       " 'Display': 'SM1100',\n",
       " 'Display resolution (pixels)': '1280x960',\n",
       " 'Eye Tracker': 'EL II',\n",
       " 'ID': 3,\n",
       " 'Img. Pos. (pixel)': '0,0',\n",
       " 'Img. size (pixel)': '1280x960',\n",
       " 'PPD': 45.6,\n",
       " 'Sampling freq. (Hz)': '500 Hz',\n",
       " 'Task': 'FV',\n",
       " 'V. Dur.': '6s',\n",
       " 'V. dist. (cm) ': 80,\n",
       " 'Val. error (degrees)': 0.3}"
      ]
     },
     "execution_count": 5,
     "metadata": {},
     "output_type": "execute_result"
    }
   ],
   "source": [
    "meta"
   ]
  },
  {
   "cell_type": "code",
   "execution_count": 6,
   "metadata": {
    "scrolled": false
   },
   "outputs": [
    {
     "data": {
      "text/html": [
       "<div>\n",
       "<style scoped>\n",
       "    .dataframe tbody tr th:only-of-type {\n",
       "        vertical-align: middle;\n",
       "    }\n",
       "\n",
       "    .dataframe tbody tr th {\n",
       "        vertical-align: top;\n",
       "    }\n",
       "\n",
       "    .dataframe thead th {\n",
       "        text-align: right;\n",
       "    }\n",
       "</style>\n",
       "<table border=\"1\" class=\"dataframe\">\n",
       "  <thead>\n",
       "    <tr style=\"text-align: right;\">\n",
       "      <th></th>\n",
       "      <th>SUBJECTINDEX</th>\n",
       "      <th>category</th>\n",
       "      <th>dataset_nr</th>\n",
       "      <th>end</th>\n",
       "      <th>eye</th>\n",
       "      <th>filenumber</th>\n",
       "      <th>fix</th>\n",
       "      <th>pupil</th>\n",
       "      <th>start</th>\n",
       "      <th>trial</th>\n",
       "      <th>x</th>\n",
       "      <th>y</th>\n",
       "    </tr>\n",
       "  </thead>\n",
       "  <tbody>\n",
       "    <tr>\n",
       "      <th>0</th>\n",
       "      <td>1.0</td>\n",
       "      <td>11.0</td>\n",
       "      <td>3.0</td>\n",
       "      <td>215.0</td>\n",
       "      <td>2.0</td>\n",
       "      <td>25.0</td>\n",
       "      <td>1.0</td>\n",
       "      <td>3287.901123</td>\n",
       "      <td>-183.0</td>\n",
       "      <td>1.0</td>\n",
       "      <td>636.0</td>\n",
       "      <td>489.0</td>\n",
       "    </tr>\n",
       "    <tr>\n",
       "      <th>1</th>\n",
       "      <td>1.0</td>\n",
       "      <td>11.0</td>\n",
       "      <td>3.0</td>\n",
       "      <td>503.0</td>\n",
       "      <td>2.0</td>\n",
       "      <td>25.0</td>\n",
       "      <td>2.0</td>\n",
       "      <td>2872.182129</td>\n",
       "      <td>261.0</td>\n",
       "      <td>1.0</td>\n",
       "      <td>524.0</td>\n",
       "      <td>276.0</td>\n",
       "    </tr>\n",
       "    <tr>\n",
       "      <th>2</th>\n",
       "      <td>1.0</td>\n",
       "      <td>11.0</td>\n",
       "      <td>3.0</td>\n",
       "      <td>819.0</td>\n",
       "      <td>2.0</td>\n",
       "      <td>25.0</td>\n",
       "      <td>3.0</td>\n",
       "      <td>2452.396484</td>\n",
       "      <td>541.0</td>\n",
       "      <td>1.0</td>\n",
       "      <td>592.0</td>\n",
       "      <td>393.0</td>\n",
       "    </tr>\n",
       "    <tr>\n",
       "      <th>3</th>\n",
       "      <td>1.0</td>\n",
       "      <td>11.0</td>\n",
       "      <td>3.0</td>\n",
       "      <td>1103.0</td>\n",
       "      <td>2.0</td>\n",
       "      <td>25.0</td>\n",
       "      <td>4.0</td>\n",
       "      <td>2135.433594</td>\n",
       "      <td>865.0</td>\n",
       "      <td>1.0</td>\n",
       "      <td>367.0</td>\n",
       "      <td>339.0</td>\n",
       "    </tr>\n",
       "    <tr>\n",
       "      <th>4</th>\n",
       "      <td>1.0</td>\n",
       "      <td>11.0</td>\n",
       "      <td>3.0</td>\n",
       "      <td>1399.0</td>\n",
       "      <td>2.0</td>\n",
       "      <td>25.0</td>\n",
       "      <td>5.0</td>\n",
       "      <td>2007.327393</td>\n",
       "      <td>1145.0</td>\n",
       "      <td>1.0</td>\n",
       "      <td>196.0</td>\n",
       "      <td>364.0</td>\n",
       "    </tr>\n",
       "  </tbody>\n",
       "</table>\n",
       "</div>"
      ],
      "text/plain": [
       "   SUBJECTINDEX  category  dataset_nr     end  eye  filenumber  fix  \\\n",
       "0           1.0      11.0         3.0   215.0  2.0        25.0  1.0   \n",
       "1           1.0      11.0         3.0   503.0  2.0        25.0  2.0   \n",
       "2           1.0      11.0         3.0   819.0  2.0        25.0  3.0   \n",
       "3           1.0      11.0         3.0  1103.0  2.0        25.0  4.0   \n",
       "4           1.0      11.0         3.0  1399.0  2.0        25.0  5.0   \n",
       "\n",
       "         pupil   start  trial      x      y  \n",
       "0  3287.901123  -183.0    1.0  636.0  489.0  \n",
       "1  2872.182129   261.0    1.0  524.0  276.0  \n",
       "2  2452.396484   541.0    1.0  592.0  393.0  \n",
       "3  2135.433594   865.0    1.0  367.0  339.0  \n",
       "4  2007.327393  1145.0    1.0  196.0  364.0  "
      ]
     },
     "execution_count": 6,
     "metadata": {},
     "output_type": "execute_result"
    }
   ],
   "source": [
    "df.head()"
   ]
  },
  {
   "cell_type": "markdown",
   "metadata": {},
   "source": [
    "### b) data cleaning [3 pts]\n",
    "We want to clean the dataframe so that it is handy for us to work with it.\n",
    "- How many fixations do we have per category? ```agg``` function might be helpful.\n",
    "- categories are encoded using a number. Add a column to the dataframe that has approporiate string value for that category (e.g. code 11.0 to \"Pink-noise\"). The category names can be found on Figure 2 of the paper.\n",
    "- since measurements lasted for 6 seconds, any fixation points that have a onset time before 0 sec and end time more than 6 sec are erroneous. Remove these rows.\n",
    "- also remove all rows with any NaN values.\n",
    "- add a column called ```duration``` and compute the duration of each fixation.\n",
    "- It is known from previous literature that fixations typically last between 100 msec to 400 msec. Remove all rows with unrealistic  fixation duration.\n",
    "- check how many data points got removed for each category. Let's hope that we didn't delete too many rows from a single category.\n",
    "- count the number of fixations for each trial. To do this, you can use the aggregate method to count the number of rows for each category.\n",
    "- print the mean duration and the mean number of fixation across all trials. Are they in a realistic range?"
   ]
  },
  {
   "cell_type": "code",
   "execution_count": 13,
   "metadata": {
    "scrolled": true
   },
   "outputs": [
    {
     "name": "stdout",
     "output_type": "stream",
     "text": [
      "category\n",
      "7.0     50488\n",
      "8.0     54825\n",
      "10.0    51034\n",
      "11.0    40105\n",
      "Name: fix, dtype: int64\n"
     ]
    },
    {
     "data": {
      "text/html": [
       "<div>\n",
       "<style scoped>\n",
       "    .dataframe tbody tr th:only-of-type {\n",
       "        vertical-align: middle;\n",
       "    }\n",
       "\n",
       "    .dataframe tbody tr th {\n",
       "        vertical-align: top;\n",
       "    }\n",
       "\n",
       "    .dataframe thead th {\n",
       "        text-align: right;\n",
       "    }\n",
       "</style>\n",
       "<table border=\"1\" class=\"dataframe\">\n",
       "  <thead>\n",
       "    <tr style=\"text-align: right;\">\n",
       "      <th></th>\n",
       "      <th>SUBJECTINDEX</th>\n",
       "      <th>category</th>\n",
       "      <th>dataset_nr</th>\n",
       "      <th>end</th>\n",
       "      <th>eye</th>\n",
       "      <th>filenumber</th>\n",
       "      <th>fix</th>\n",
       "      <th>pupil</th>\n",
       "      <th>start</th>\n",
       "      <th>trial</th>\n",
       "      <th>x</th>\n",
       "      <th>y</th>\n",
       "      <th>categoryname</th>\n",
       "      <th>duration</th>\n",
       "    </tr>\n",
       "  </thead>\n",
       "  <tbody>\n",
       "    <tr>\n",
       "      <th>1</th>\n",
       "      <td>1.0</td>\n",
       "      <td>11.0</td>\n",
       "      <td>3.0</td>\n",
       "      <td>503.0</td>\n",
       "      <td>2.0</td>\n",
       "      <td>25.0</td>\n",
       "      <td>2.0</td>\n",
       "      <td>2872.182129</td>\n",
       "      <td>261.0</td>\n",
       "      <td>1.0</td>\n",
       "      <td>524.0</td>\n",
       "      <td>276.0</td>\n",
       "      <td>Pink-noise</td>\n",
       "      <td>242.0</td>\n",
       "    </tr>\n",
       "    <tr>\n",
       "      <th>2</th>\n",
       "      <td>1.0</td>\n",
       "      <td>11.0</td>\n",
       "      <td>3.0</td>\n",
       "      <td>819.0</td>\n",
       "      <td>2.0</td>\n",
       "      <td>25.0</td>\n",
       "      <td>3.0</td>\n",
       "      <td>2452.396484</td>\n",
       "      <td>541.0</td>\n",
       "      <td>1.0</td>\n",
       "      <td>592.0</td>\n",
       "      <td>393.0</td>\n",
       "      <td>Pink-noise</td>\n",
       "      <td>278.0</td>\n",
       "    </tr>\n",
       "    <tr>\n",
       "      <th>3</th>\n",
       "      <td>1.0</td>\n",
       "      <td>11.0</td>\n",
       "      <td>3.0</td>\n",
       "      <td>1103.0</td>\n",
       "      <td>2.0</td>\n",
       "      <td>25.0</td>\n",
       "      <td>4.0</td>\n",
       "      <td>2135.433594</td>\n",
       "      <td>865.0</td>\n",
       "      <td>1.0</td>\n",
       "      <td>367.0</td>\n",
       "      <td>339.0</td>\n",
       "      <td>Pink-noise</td>\n",
       "      <td>238.0</td>\n",
       "    </tr>\n",
       "    <tr>\n",
       "      <th>4</th>\n",
       "      <td>1.0</td>\n",
       "      <td>11.0</td>\n",
       "      <td>3.0</td>\n",
       "      <td>1399.0</td>\n",
       "      <td>2.0</td>\n",
       "      <td>25.0</td>\n",
       "      <td>5.0</td>\n",
       "      <td>2007.327393</td>\n",
       "      <td>1145.0</td>\n",
       "      <td>1.0</td>\n",
       "      <td>196.0</td>\n",
       "      <td>364.0</td>\n",
       "      <td>Pink-noise</td>\n",
       "      <td>254.0</td>\n",
       "    </tr>\n",
       "    <tr>\n",
       "      <th>5</th>\n",
       "      <td>1.0</td>\n",
       "      <td>11.0</td>\n",
       "      <td>3.0</td>\n",
       "      <td>1939.0</td>\n",
       "      <td>2.0</td>\n",
       "      <td>25.0</td>\n",
       "      <td>6.0</td>\n",
       "      <td>2159.601562</td>\n",
       "      <td>1449.0</td>\n",
       "      <td>1.0</td>\n",
       "      <td>564.0</td>\n",
       "      <td>421.0</td>\n",
       "      <td>Pink-noise</td>\n",
       "      <td>490.0</td>\n",
       "    </tr>\n",
       "  </tbody>\n",
       "</table>\n",
       "</div>"
      ],
      "text/plain": [
       "   SUBJECTINDEX  category  dataset_nr     end  eye  filenumber  fix  \\\n",
       "1           1.0      11.0         3.0   503.0  2.0        25.0  2.0   \n",
       "2           1.0      11.0         3.0   819.0  2.0        25.0  3.0   \n",
       "3           1.0      11.0         3.0  1103.0  2.0        25.0  4.0   \n",
       "4           1.0      11.0         3.0  1399.0  2.0        25.0  5.0   \n",
       "5           1.0      11.0         3.0  1939.0  2.0        25.0  6.0   \n",
       "\n",
       "         pupil   start  trial      x      y categoryname  duration  \n",
       "1  2872.182129   261.0    1.0  524.0  276.0   Pink-noise     242.0  \n",
       "2  2452.396484   541.0    1.0  592.0  393.0   Pink-noise     278.0  \n",
       "3  2135.433594   865.0    1.0  367.0  339.0   Pink-noise     238.0  \n",
       "4  2007.327393  1145.0    1.0  196.0  364.0   Pink-noise     254.0  \n",
       "5  2159.601562  1449.0    1.0  564.0  421.0   Pink-noise     490.0  "
      ]
     },
     "execution_count": 13,
     "metadata": {},
     "output_type": "execute_result"
    }
   ],
   "source": [
    "df_count = df.groupby('category').agg('count')['fix']\n",
    "categories = {7:'Natural', 8:'Urban', 10:'Fractals', 11:'Pink-noise'}\n",
    "df['categoryname'] = df['category'].map(categories)\n",
    "\n",
    "df = df[(df['start'] > 0) & (df['start'] < 6000)]\n",
    "\n",
    "df = df.dropna()\n",
    "\n",
    "df['duration'] = df[\"end\"]-df[\"start\"]\n",
    "\n",
    "df_cleaned = df[(df[\"duration\"] > 100) & (df[\"duration\"] < 400)]\n",
    "\n",
    "print(df_count)\n",
    "\n",
    "df.head()"
   ]
  },
  {
   "cell_type": "markdown",
   "metadata": {},
   "source": [
    "### c) visualizing data distribution [3 pts]\n",
    "Are there any inter-subject difference and effect of different category in our data?\n",
    "- plot the mean duration for each category (4 x-values) and the mean duration for each subject (48 x-values).\n",
    "\n",
    "- plot the mean number of fixations for each category (4 x-values) and the mean number of fixation for each subject (48 x-values)."
   ]
  },
  {
   "cell_type": "code",
   "execution_count": 54,
   "metadata": {
    "scrolled": false
   },
   "outputs": [
    {
     "data": {
      "text/plain": [
       "[Text(0, 0, '1'), Text(0, 0, '5')]"
      ]
     },
     "execution_count": 54,
     "metadata": {},
     "output_type": "execute_result"
    },
    {
     "data": {
      "image/png": "[encoded data removed]",
      "text/plain": [
       "<Figure size 864x576 with 4 Axes>"
      ]
     },
     "metadata": {
      "needs_background": "light"
     },
     "output_type": "display_data"
    }
   ],
   "source": [
    "fig, axes = plt.subplots(nrows=2,ncols=2, figsize=(12,8))\n",
    "axes = axes.flatten()\n",
    "\n",
    "sns.barplot(x = 'categoryname', y = 'duration', data = df_cleaned, ci = None, ax = axes[0])\n",
    "sns.barplot(x = 'SUBJECTINDEX', y = 'duration', data = df_cleaned, ci = None, ax = axes[1])\n",
    "axes[1].set_xticklabels(labels = [\"1\",\"5\"])"
   ]
  },
  {
   "cell_type": "markdown",
   "metadata": {},
   "source": [
    "### d) normally distributed data [3 pts]\n",
    "As ANOVA and lots of other statistical tests can be used only for normally distributed varaibles, it makes sense to find out whether the fixation duration and the number of fixations per trial is also normally distributed. This can be done with a Q-Q-Plot, which  is a graphical technique for determining if two data sets come from populations with a common distribution, in this case a normal distribution (for more information, klick [here](https://www.itl.nist.gov/div898/handbook/eda/section3/eda33o.htm)).\n",
    "- make a Q-Q plot of the variable *fixation duration*. Is it approximately normally distributed?\n",
    "- make a Q-Q plot of the variable *# fixation per trial*. Is it approximately normally distributed?"
   ]
  },
  {
   "cell_type": "code",
   "execution_count": 7,
   "metadata": {
    "scrolled": false
   },
   "outputs": [],
   "source": [
    "# TODO"
   ]
  },
  {
   "cell_type": "markdown",
   "metadata": {},
   "source": [
    "what do you think?"
   ]
  },
  {
   "cell_type": "markdown",
   "metadata": {},
   "source": [
    "## Assignment 2: Hypothesis testing [3 pts]"
   ]
  },
  {
   "cell_type": "markdown",
   "metadata": {},
   "source": [
    "### a) one way ANOVA [3 pts]\n",
    "Now it's time to really prove our intuition. Test the following null hypotheses:  \n",
    "$H01$: There is no difference in fixation duration across 4 different categories.  \n",
    "$H02$: There is no difference in the number of fixations across 4 different categories.\n",
    "\n",
    "What do you find?"
   ]
  },
  {
   "cell_type": "code",
   "execution_count": 8,
   "metadata": {},
   "outputs": [],
   "source": [
    "# H01"
   ]
  },
  {
   "cell_type": "code",
   "execution_count": 9,
   "metadata": {
    "scrolled": true
   },
   "outputs": [],
   "source": [
    "# H02"
   ]
  },
  {
   "cell_type": "markdown",
   "metadata": {},
   "source": [
    "what do you say?"
   ]
  },
  {
   "cell_type": "markdown",
   "metadata": {},
   "source": [
    "## Assignment 3: Binning [4 pts]"
   ]
  },
  {
   "cell_type": "markdown",
   "metadata": {},
   "source": [
    "### a) distribution of # fixation [2 pts]\n",
    "Now we would like to know if there's a difference in terms of fixation numbers at different time segment.\n",
    "- make a histogram with x axis being the start time of fixation\n",
    "- the bin size should be 1 sec. In total there would be 6 bins.\n",
    "- average over all subjects and images, just make a one simple plot\n",
    "- figure out mean fixation duration for each bin and print it\n"
   ]
  },
  {
   "cell_type": "code",
   "execution_count": 10,
   "metadata": {},
   "outputs": [],
   "source": [
    "# TODO"
   ]
  },
  {
   "cell_type": "markdown",
   "metadata": {},
   "source": [
    "### b) leftward bias [2 pts]\n",
    "If you took Action & Cognition I, you have probably heard about the leftward bias in human's fixation behavior. It is known that people tend to look more at the left visual field for the initial first second. Check whether this holds for our dataset as well.\n",
    "- make a pointplot with x-axis as the x-coordinate of each fixation point and y-axis as the time bin to which the fixation point belongs to.\n",
    "- mark the confidence interval around each point.\n",
    "- make a vertical line at middle point of the x values. The x-coordinate of the fixation point in the data is based on the coordinate system using the display resolution. You can find out the information about display resolution by taking a look at the meta data."
   ]
  },
  {
   "cell_type": "code",
   "execution_count": 11,
   "metadata": {},
   "outputs": [],
   "source": [
    "# TODO"
   ]
  },
  {
   "cell_type": "markdown",
   "metadata": {},
   "source": [
    "## Assignment 4: Heatmap [4 pts]\n",
    "Now let's use heatmap to visualize which part of pictures is fixated for how long. It would be also good to know if there's a difference between categories.\n",
    "- make a heatmap for data consisting of each categories and then averaged across all data.\n",
    "- mark a central point in the plot.\n",
    "- you can use ```numpy.histogram2d``` to compute a bi-dimensional histogram.\n",
    "- then you can use ```pyplot.imshow``` to plot these histogram.\n",
    "- don't forget to use the parameter ```extent``` to control for the bounding box to which the image should fit in.\n",
    "- if you want to use other functions that's surely fine as well."
   ]
  },
  {
   "cell_type": "code",
   "execution_count": 12,
   "metadata": {
    "scrolled": true
   },
   "outputs": [],
   "source": [
    "# TODO"
   ]
  },
  {
   "cell_type": "markdown",
   "metadata": {},
   "source": [
    "## Assignment 5: Scanpath [5 pts]\n",
    "We want to know whether different scan behaviour is used when viewing images of different categories. Scanpath is a path followed by the eyes when viewing a stimulus. Scanpaths are useful for analyzing cognitive intent, interest, and salience. It has an advantage to a heatmap because the information about temporal structure of viewing behaviour can be plotted.\n",
    "- make four plots, one for each category.\n",
    "- randomely choose one trial for which you will plot a scanpath.\n",
    "- mark fixation points based on the x-y coordinates.\n",
    "- plot the *saccade path* from one fixation point to another one.\n",
    "- make sure that the order of fixation can be read out from the plot. E.g. earlier fixations could have a light color whereas later fixations could have dark colors.\n",
    "- also include information about the duration of each fixation. One way to do it is the use the size of the fixation marker.\n",
    "- plot the background image superimposed with the scanpath. "
   ]
  },
  {
   "cell_type": "code",
   "execution_count": 13,
   "metadata": {
    "scrolled": false
   },
   "outputs": [],
   "source": [
    "# TODO"
   ]
  },
  {
   "cell_type": "markdown",
   "metadata": {},
   "source": [
    "# Citation\n",
    "Wilming N, Onat S, Ossandón J, Acik A, Kietzmann TC, Kaspar K, Gameiro RR, Vormberg A, König P (2017) An extensive dataset of eye movements during viewing of complex images. Scientific Data 4: 160126. https://doi.org/10.1038/sdata.2016.126  \n",
    "Wilming N, Onat S, Ossandón J, Acik A, Kietzmann TC, Kaspar K, Gameiro RR, Vormberg A, König P (2017) Data from: An extensive dataset of eye movements during viewing of complex images. Dryad Digital Repository. https://doi.org/10.5061/dryad.9pf75"
   ]
  }
 ],
 "metadata": {
  "kernelspec": {
   "display_name": "Python 3",
   "language": "python",
   "name": "python3"
  },
  "language_info": {
   "codemirror_mode": {
    "name": "ipython",
    "version": 3
   },
   "file_extension": ".py",
   "mimetype": "text/x-python",
   "name": "python",
   "nbconvert_exporter": "python",
   "pygments_lexer": "ipython3",
   "version": "3.6.7"
  }
 },
 "nbformat": 4,
 "nbformat_minor": 2
}
